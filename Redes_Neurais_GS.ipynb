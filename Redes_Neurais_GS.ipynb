{
  "nbformat": 4,
  "nbformat_minor": 0,
  "metadata": {
    "colab": {
      "provenance": [],
      "collapsed_sections": [
        "htiOW86TwZ8T",
        "Ky6Bg-A4wgd_",
        "r8h5ohGX7XqO",
        "1vydGldK37G-"
      ]
    },
    "kernelspec": {
      "name": "python3",
      "display_name": "Python 3"
    },
    "language_info": {
      "name": "python"
    }
  },
  "cells": [
    {
      "cell_type": "markdown",
      "source": [
        "# 1- Título e Introdução\n",
        "\n",
        "Criar uma Rede Neural capaz de prever o risco de ocorrência de enchentes em áreas urbanas, usando os dados de entrada mencionados. A entrega final deverá ser feita através do Google Colab."
      ],
      "metadata": {
        "id": "5VwNh7WiU9Su"
      }
    },
    {
      "cell_type": "markdown",
      "source": [
        "# 2- Importação de bibliotecas"
      ],
      "metadata": {
        "id": "MShUsz5RwR8A"
      }
    },
    {
      "cell_type": "code",
      "execution_count": 1,
      "metadata": {
        "id": "m_eGEYikUZz_"
      },
      "outputs": [],
      "source": [
        "import pandas as pd\n",
        "import numpy as np\n",
        "import matplotlib.pyplot as plt\n",
        "import seaborn as sns\n",
        "\n",
        "from sklearn.model_selection import train_test_split\n",
        "from sklearn.preprocessing import StandardScaler\n",
        "from sklearn.metrics import classification_report, confusion_matrix, ConfusionMatrixDisplay\n",
        "\n",
        "import tensorflow as tf\n",
        "from tensorflow.keras.models import Sequential\n",
        "from tensorflow.keras.layers import Dense"
      ]
    },
    {
      "cell_type": "markdown",
      "source": [
        "# 3- Descrição das bibliotecas"
      ],
      "metadata": {
        "id": "htiOW86TwZ8T"
      }
    },
    {
      "cell_type": "markdown",
      "source": [
        "- **pandas / numpy**: manipulação e análise de dados tabulares.\n",
        "- **matplotlib / seaborn**: visualização de dados e gráficos exploratórios.\n",
        "- **sklearn**: ferramentas de machine learning como pré-processamento, divisão de dados e métricas.\n",
        "- **tensorflow / keras**: construção, treinamento e avaliação da rede neural.\n"
      ],
      "metadata": {
        "id": "FKuxRXqGYmov"
      }
    },
    {
      "cell_type": "markdown",
      "source": [
        "# 4- Carregamento e Exploração do Dataset"
      ],
      "metadata": {
        "id": "Ky6Bg-A4wgd_"
      }
    },
    {
      "cell_type": "code",
      "source": [
        "df = pd.read_csv('/content/flood_risk_dataset_india.csv')\n",
        "\n",
        "df.head()\n",
        "df.info()\n",
        "df.describe()\n",
        "df.tail()\n",
        "df.select_dtypes(include=['object']).columns\n",
        "\n",
        "df"
      ],
      "metadata": {
        "colab": {
          "base_uri": "https://localhost:8080/",
          "height": 0
        },
        "collapsed": true,
        "id": "3IgJHUOVYoNb",
        "outputId": "904e9195-d6a8-4bbc-d10b-e0fafdb94f03"
      },
      "execution_count": 2,
      "outputs": [
        {
          "output_type": "stream",
          "name": "stdout",
          "text": [
            "<class 'pandas.core.frame.DataFrame'>\n",
            "RangeIndex: 10000 entries, 0 to 9999\n",
            "Data columns (total 14 columns):\n",
            " #   Column                  Non-Null Count  Dtype  \n",
            "---  ------                  --------------  -----  \n",
            " 0   Latitude                10000 non-null  float64\n",
            " 1   Longitude               10000 non-null  float64\n",
            " 2   Rainfall (mm)           10000 non-null  float64\n",
            " 3   Temperature (°C)        10000 non-null  float64\n",
            " 4   Humidity (%)            10000 non-null  float64\n",
            " 5   River Discharge (m³/s)  10000 non-null  float64\n",
            " 6   Water Level (m)         10000 non-null  float64\n",
            " 7   Elevation (m)           10000 non-null  float64\n",
            " 8   Land Cover              10000 non-null  object \n",
            " 9   Soil Type               10000 non-null  object \n",
            " 10  Population Density      10000 non-null  float64\n",
            " 11  Infrastructure          10000 non-null  int64  \n",
            " 12  Historical Floods       10000 non-null  int64  \n",
            " 13  Flood Occurred          10000 non-null  int64  \n",
            "dtypes: float64(9), int64(3), object(2)\n",
            "memory usage: 1.1+ MB\n"
          ]
        },
        {
          "output_type": "execute_result",
          "data": {
            "text/plain": [
              "       Latitude  Longitude  Rainfall (mm)  Temperature (°C)  Humidity (%)  \\\n",
              "0     18.861663  78.835584     218.999493         34.144337     43.912963   \n",
              "1     35.570715  77.654451      55.353599         28.778774     27.585422   \n",
              "2     29.227824  73.108463     103.991908         43.934956     30.108738   \n",
              "3     25.361096  85.610733     198.984191         21.569354     34.453690   \n",
              "4     12.524541  81.822101     144.626803         32.635692     36.292267   \n",
              "...         ...        ...            ...               ...           ...   \n",
              "9995  32.872024  93.434120     285.682635         37.621017     69.795616   \n",
              "9996  34.027756  69.357605     224.347263         37.935808     38.095486   \n",
              "9997  35.454530  76.807256       5.836759         23.087083     79.919607   \n",
              "9998  19.527152  80.856280     120.301453         28.029593     61.680873   \n",
              "9999  14.297072  72.995680      77.219394         29.622711     88.936537   \n",
              "\n",
              "      River Discharge (m³/s)  Water Level (m)  Elevation (m)    Land Cover  \\\n",
              "0                4236.182888         7.415552     377.465433    Water Body   \n",
              "1                2472.585219         8.811019    7330.608875        Forest   \n",
              "2                 977.328053         4.631799    2205.873488  Agricultural   \n",
              "3                3683.208933         2.891787    2512.277800        Desert   \n",
              "4                2093.390678         3.188466    2001.818223  Agricultural   \n",
              "...                      ...              ...            ...           ...   \n",
              "9995             4830.703665         5.943965    2850.197900  Agricultural   \n",
              "9996             1866.199787         9.466158    3314.692947        Forest   \n",
              "9997             1523.374305         9.209185    3377.296962        Desert   \n",
              "9998             2036.812638         2.004644    1146.986151    Water Body   \n",
              "9999             2614.166967         0.991856    8381.595028        Desert   \n",
              "\n",
              "     Soil Type  Population Density  Infrastructure  Historical Floods  \\\n",
              "0         Clay         7276.742184               1                  0   \n",
              "1         Peat         6897.736956               0                  1   \n",
              "2         Loam         4361.518494               1                  1   \n",
              "3        Sandy         6163.069701               1                  1   \n",
              "4         Loam         6167.964591               1                  0   \n",
              "...        ...                 ...             ...                ...   \n",
              "9995      Clay         6943.559433               0                  0   \n",
              "9996      Clay         3011.997459               1                  0   \n",
              "9997      Clay         7149.938303               1                  0   \n",
              "9998     Sandy          906.031452               1                  0   \n",
              "9999      Clay         4530.770301               1                  1   \n",
              "\n",
              "      Flood Occurred  \n",
              "0                  1  \n",
              "1                  0  \n",
              "2                  1  \n",
              "3                  0  \n",
              "4                  0  \n",
              "...              ...  \n",
              "9995               0  \n",
              "9996               0  \n",
              "9997               1  \n",
              "9998               1  \n",
              "9999               1  \n",
              "\n",
              "[10000 rows x 14 columns]"
            ],
            "text/html": [
              "\n",
              "  <div id=\"df-a861e2b7-545c-4056-b20f-7116bf1af09e\" class=\"colab-df-container\">\n",
              "    <div>\n",
              "<style scoped>\n",
              "    .dataframe tbody tr th:only-of-type {\n",
              "        vertical-align: middle;\n",
              "    }\n",
              "\n",
              "    .dataframe tbody tr th {\n",
              "        vertical-align: top;\n",
              "    }\n",
              "\n",
              "    .dataframe thead th {\n",
              "        text-align: right;\n",
              "    }\n",
              "</style>\n",
              "<table border=\"1\" class=\"dataframe\">\n",
              "  <thead>\n",
              "    <tr style=\"text-align: right;\">\n",
              "      <th></th>\n",
              "      <th>Latitude</th>\n",
              "      <th>Longitude</th>\n",
              "      <th>Rainfall (mm)</th>\n",
              "      <th>Temperature (°C)</th>\n",
              "      <th>Humidity (%)</th>\n",
              "      <th>River Discharge (m³/s)</th>\n",
              "      <th>Water Level (m)</th>\n",
              "      <th>Elevation (m)</th>\n",
              "      <th>Land Cover</th>\n",
              "      <th>Soil Type</th>\n",
              "      <th>Population Density</th>\n",
              "      <th>Infrastructure</th>\n",
              "      <th>Historical Floods</th>\n",
              "      <th>Flood Occurred</th>\n",
              "    </tr>\n",
              "  </thead>\n",
              "  <tbody>\n",
              "    <tr>\n",
              "      <th>0</th>\n",
              "      <td>18.861663</td>\n",
              "      <td>78.835584</td>\n",
              "      <td>218.999493</td>\n",
              "      <td>34.144337</td>\n",
              "      <td>43.912963</td>\n",
              "      <td>4236.182888</td>\n",
              "      <td>7.415552</td>\n",
              "      <td>377.465433</td>\n",
              "      <td>Water Body</td>\n",
              "      <td>Clay</td>\n",
              "      <td>7276.742184</td>\n",
              "      <td>1</td>\n",
              "      <td>0</td>\n",
              "      <td>1</td>\n",
              "    </tr>\n",
              "    <tr>\n",
              "      <th>1</th>\n",
              "      <td>35.570715</td>\n",
              "      <td>77.654451</td>\n",
              "      <td>55.353599</td>\n",
              "      <td>28.778774</td>\n",
              "      <td>27.585422</td>\n",
              "      <td>2472.585219</td>\n",
              "      <td>8.811019</td>\n",
              "      <td>7330.608875</td>\n",
              "      <td>Forest</td>\n",
              "      <td>Peat</td>\n",
              "      <td>6897.736956</td>\n",
              "      <td>0</td>\n",
              "      <td>1</td>\n",
              "      <td>0</td>\n",
              "    </tr>\n",
              "    <tr>\n",
              "      <th>2</th>\n",
              "      <td>29.227824</td>\n",
              "      <td>73.108463</td>\n",
              "      <td>103.991908</td>\n",
              "      <td>43.934956</td>\n",
              "      <td>30.108738</td>\n",
              "      <td>977.328053</td>\n",
              "      <td>4.631799</td>\n",
              "      <td>2205.873488</td>\n",
              "      <td>Agricultural</td>\n",
              "      <td>Loam</td>\n",
              "      <td>4361.518494</td>\n",
              "      <td>1</td>\n",
              "      <td>1</td>\n",
              "      <td>1</td>\n",
              "    </tr>\n",
              "    <tr>\n",
              "      <th>3</th>\n",
              "      <td>25.361096</td>\n",
              "      <td>85.610733</td>\n",
              "      <td>198.984191</td>\n",
              "      <td>21.569354</td>\n",
              "      <td>34.453690</td>\n",
              "      <td>3683.208933</td>\n",
              "      <td>2.891787</td>\n",
              "      <td>2512.277800</td>\n",
              "      <td>Desert</td>\n",
              "      <td>Sandy</td>\n",
              "      <td>6163.069701</td>\n",
              "      <td>1</td>\n",
              "      <td>1</td>\n",
              "      <td>0</td>\n",
              "    </tr>\n",
              "    <tr>\n",
              "      <th>4</th>\n",
              "      <td>12.524541</td>\n",
              "      <td>81.822101</td>\n",
              "      <td>144.626803</td>\n",
              "      <td>32.635692</td>\n",
              "      <td>36.292267</td>\n",
              "      <td>2093.390678</td>\n",
              "      <td>3.188466</td>\n",
              "      <td>2001.818223</td>\n",
              "      <td>Agricultural</td>\n",
              "      <td>Loam</td>\n",
              "      <td>6167.964591</td>\n",
              "      <td>1</td>\n",
              "      <td>0</td>\n",
              "      <td>0</td>\n",
              "    </tr>\n",
              "    <tr>\n",
              "      <th>...</th>\n",
              "      <td>...</td>\n",
              "      <td>...</td>\n",
              "      <td>...</td>\n",
              "      <td>...</td>\n",
              "      <td>...</td>\n",
              "      <td>...</td>\n",
              "      <td>...</td>\n",
              "      <td>...</td>\n",
              "      <td>...</td>\n",
              "      <td>...</td>\n",
              "      <td>...</td>\n",
              "      <td>...</td>\n",
              "      <td>...</td>\n",
              "      <td>...</td>\n",
              "    </tr>\n",
              "    <tr>\n",
              "      <th>9995</th>\n",
              "      <td>32.872024</td>\n",
              "      <td>93.434120</td>\n",
              "      <td>285.682635</td>\n",
              "      <td>37.621017</td>\n",
              "      <td>69.795616</td>\n",
              "      <td>4830.703665</td>\n",
              "      <td>5.943965</td>\n",
              "      <td>2850.197900</td>\n",
              "      <td>Agricultural</td>\n",
              "      <td>Clay</td>\n",
              "      <td>6943.559433</td>\n",
              "      <td>0</td>\n",
              "      <td>0</td>\n",
              "      <td>0</td>\n",
              "    </tr>\n",
              "    <tr>\n",
              "      <th>9996</th>\n",
              "      <td>34.027756</td>\n",
              "      <td>69.357605</td>\n",
              "      <td>224.347263</td>\n",
              "      <td>37.935808</td>\n",
              "      <td>38.095486</td>\n",
              "      <td>1866.199787</td>\n",
              "      <td>9.466158</td>\n",
              "      <td>3314.692947</td>\n",
              "      <td>Forest</td>\n",
              "      <td>Clay</td>\n",
              "      <td>3011.997459</td>\n",
              "      <td>1</td>\n",
              "      <td>0</td>\n",
              "      <td>0</td>\n",
              "    </tr>\n",
              "    <tr>\n",
              "      <th>9997</th>\n",
              "      <td>35.454530</td>\n",
              "      <td>76.807256</td>\n",
              "      <td>5.836759</td>\n",
              "      <td>23.087083</td>\n",
              "      <td>79.919607</td>\n",
              "      <td>1523.374305</td>\n",
              "      <td>9.209185</td>\n",
              "      <td>3377.296962</td>\n",
              "      <td>Desert</td>\n",
              "      <td>Clay</td>\n",
              "      <td>7149.938303</td>\n",
              "      <td>1</td>\n",
              "      <td>0</td>\n",
              "      <td>1</td>\n",
              "    </tr>\n",
              "    <tr>\n",
              "      <th>9998</th>\n",
              "      <td>19.527152</td>\n",
              "      <td>80.856280</td>\n",
              "      <td>120.301453</td>\n",
              "      <td>28.029593</td>\n",
              "      <td>61.680873</td>\n",
              "      <td>2036.812638</td>\n",
              "      <td>2.004644</td>\n",
              "      <td>1146.986151</td>\n",
              "      <td>Water Body</td>\n",
              "      <td>Sandy</td>\n",
              "      <td>906.031452</td>\n",
              "      <td>1</td>\n",
              "      <td>0</td>\n",
              "      <td>1</td>\n",
              "    </tr>\n",
              "    <tr>\n",
              "      <th>9999</th>\n",
              "      <td>14.297072</td>\n",
              "      <td>72.995680</td>\n",
              "      <td>77.219394</td>\n",
              "      <td>29.622711</td>\n",
              "      <td>88.936537</td>\n",
              "      <td>2614.166967</td>\n",
              "      <td>0.991856</td>\n",
              "      <td>8381.595028</td>\n",
              "      <td>Desert</td>\n",
              "      <td>Clay</td>\n",
              "      <td>4530.770301</td>\n",
              "      <td>1</td>\n",
              "      <td>1</td>\n",
              "      <td>1</td>\n",
              "    </tr>\n",
              "  </tbody>\n",
              "</table>\n",
              "<p>10000 rows × 14 columns</p>\n",
              "</div>\n",
              "    <div class=\"colab-df-buttons\">\n",
              "\n",
              "  <div class=\"colab-df-container\">\n",
              "    <button class=\"colab-df-convert\" onclick=\"convertToInteractive('df-a861e2b7-545c-4056-b20f-7116bf1af09e')\"\n",
              "            title=\"Convert this dataframe to an interactive table.\"\n",
              "            style=\"display:none;\">\n",
              "\n",
              "  <svg xmlns=\"http://www.w3.org/2000/svg\" height=\"24px\" viewBox=\"0 -960 960 960\">\n",
              "    <path d=\"M120-120v-720h720v720H120Zm60-500h600v-160H180v160Zm220 220h160v-160H400v160Zm0 220h160v-160H400v160ZM180-400h160v-160H180v160Zm440 0h160v-160H620v160ZM180-180h160v-160H180v160Zm440 0h160v-160H620v160Z\"/>\n",
              "  </svg>\n",
              "    </button>\n",
              "\n",
              "  <style>\n",
              "    .colab-df-container {\n",
              "      display:flex;\n",
              "      gap: 12px;\n",
              "    }\n",
              "\n",
              "    .colab-df-convert {\n",
              "      background-color: #E8F0FE;\n",
              "      border: none;\n",
              "      border-radius: 50%;\n",
              "      cursor: pointer;\n",
              "      display: none;\n",
              "      fill: #1967D2;\n",
              "      height: 32px;\n",
              "      padding: 0 0 0 0;\n",
              "      width: 32px;\n",
              "    }\n",
              "\n",
              "    .colab-df-convert:hover {\n",
              "      background-color: #E2EBFA;\n",
              "      box-shadow: 0px 1px 2px rgba(60, 64, 67, 0.3), 0px 1px 3px 1px rgba(60, 64, 67, 0.15);\n",
              "      fill: #174EA6;\n",
              "    }\n",
              "\n",
              "    .colab-df-buttons div {\n",
              "      margin-bottom: 4px;\n",
              "    }\n",
              "\n",
              "    [theme=dark] .colab-df-convert {\n",
              "      background-color: #3B4455;\n",
              "      fill: #D2E3FC;\n",
              "    }\n",
              "\n",
              "    [theme=dark] .colab-df-convert:hover {\n",
              "      background-color: #434B5C;\n",
              "      box-shadow: 0px 1px 3px 1px rgba(0, 0, 0, 0.15);\n",
              "      filter: drop-shadow(0px 1px 2px rgba(0, 0, 0, 0.3));\n",
              "      fill: #FFFFFF;\n",
              "    }\n",
              "  </style>\n",
              "\n",
              "    <script>\n",
              "      const buttonEl =\n",
              "        document.querySelector('#df-a861e2b7-545c-4056-b20f-7116bf1af09e button.colab-df-convert');\n",
              "      buttonEl.style.display =\n",
              "        google.colab.kernel.accessAllowed ? 'block' : 'none';\n",
              "\n",
              "      async function convertToInteractive(key) {\n",
              "        const element = document.querySelector('#df-a861e2b7-545c-4056-b20f-7116bf1af09e');\n",
              "        const dataTable =\n",
              "          await google.colab.kernel.invokeFunction('convertToInteractive',\n",
              "                                                    [key], {});\n",
              "        if (!dataTable) return;\n",
              "\n",
              "        const docLinkHtml = 'Like what you see? Visit the ' +\n",
              "          '<a target=\"_blank\" href=https://colab.research.google.com/notebooks/data_table.ipynb>data table notebook</a>'\n",
              "          + ' to learn more about interactive tables.';\n",
              "        element.innerHTML = '';\n",
              "        dataTable['output_type'] = 'display_data';\n",
              "        await google.colab.output.renderOutput(dataTable, element);\n",
              "        const docLink = document.createElement('div');\n",
              "        docLink.innerHTML = docLinkHtml;\n",
              "        element.appendChild(docLink);\n",
              "      }\n",
              "    </script>\n",
              "  </div>\n",
              "\n",
              "\n",
              "    <div id=\"df-e4a33539-311f-41d7-8421-cf09d9ac8793\">\n",
              "      <button class=\"colab-df-quickchart\" onclick=\"quickchart('df-e4a33539-311f-41d7-8421-cf09d9ac8793')\"\n",
              "                title=\"Suggest charts\"\n",
              "                style=\"display:none;\">\n",
              "\n",
              "<svg xmlns=\"http://www.w3.org/2000/svg\" height=\"24px\"viewBox=\"0 0 24 24\"\n",
              "     width=\"24px\">\n",
              "    <g>\n",
              "        <path d=\"M19 3H5c-1.1 0-2 .9-2 2v14c0 1.1.9 2 2 2h14c1.1 0 2-.9 2-2V5c0-1.1-.9-2-2-2zM9 17H7v-7h2v7zm4 0h-2V7h2v10zm4 0h-2v-4h2v4z\"/>\n",
              "    </g>\n",
              "</svg>\n",
              "      </button>\n",
              "\n",
              "<style>\n",
              "  .colab-df-quickchart {\n",
              "      --bg-color: #E8F0FE;\n",
              "      --fill-color: #1967D2;\n",
              "      --hover-bg-color: #E2EBFA;\n",
              "      --hover-fill-color: #174EA6;\n",
              "      --disabled-fill-color: #AAA;\n",
              "      --disabled-bg-color: #DDD;\n",
              "  }\n",
              "\n",
              "  [theme=dark] .colab-df-quickchart {\n",
              "      --bg-color: #3B4455;\n",
              "      --fill-color: #D2E3FC;\n",
              "      --hover-bg-color: #434B5C;\n",
              "      --hover-fill-color: #FFFFFF;\n",
              "      --disabled-bg-color: #3B4455;\n",
              "      --disabled-fill-color: #666;\n",
              "  }\n",
              "\n",
              "  .colab-df-quickchart {\n",
              "    background-color: var(--bg-color);\n",
              "    border: none;\n",
              "    border-radius: 50%;\n",
              "    cursor: pointer;\n",
              "    display: none;\n",
              "    fill: var(--fill-color);\n",
              "    height: 32px;\n",
              "    padding: 0;\n",
              "    width: 32px;\n",
              "  }\n",
              "\n",
              "  .colab-df-quickchart:hover {\n",
              "    background-color: var(--hover-bg-color);\n",
              "    box-shadow: 0 1px 2px rgba(60, 64, 67, 0.3), 0 1px 3px 1px rgba(60, 64, 67, 0.15);\n",
              "    fill: var(--button-hover-fill-color);\n",
              "  }\n",
              "\n",
              "  .colab-df-quickchart-complete:disabled,\n",
              "  .colab-df-quickchart-complete:disabled:hover {\n",
              "    background-color: var(--disabled-bg-color);\n",
              "    fill: var(--disabled-fill-color);\n",
              "    box-shadow: none;\n",
              "  }\n",
              "\n",
              "  .colab-df-spinner {\n",
              "    border: 2px solid var(--fill-color);\n",
              "    border-color: transparent;\n",
              "    border-bottom-color: var(--fill-color);\n",
              "    animation:\n",
              "      spin 1s steps(1) infinite;\n",
              "  }\n",
              "\n",
              "  @keyframes spin {\n",
              "    0% {\n",
              "      border-color: transparent;\n",
              "      border-bottom-color: var(--fill-color);\n",
              "      border-left-color: var(--fill-color);\n",
              "    }\n",
              "    20% {\n",
              "      border-color: transparent;\n",
              "      border-left-color: var(--fill-color);\n",
              "      border-top-color: var(--fill-color);\n",
              "    }\n",
              "    30% {\n",
              "      border-color: transparent;\n",
              "      border-left-color: var(--fill-color);\n",
              "      border-top-color: var(--fill-color);\n",
              "      border-right-color: var(--fill-color);\n",
              "    }\n",
              "    40% {\n",
              "      border-color: transparent;\n",
              "      border-right-color: var(--fill-color);\n",
              "      border-top-color: var(--fill-color);\n",
              "    }\n",
              "    60% {\n",
              "      border-color: transparent;\n",
              "      border-right-color: var(--fill-color);\n",
              "    }\n",
              "    80% {\n",
              "      border-color: transparent;\n",
              "      border-right-color: var(--fill-color);\n",
              "      border-bottom-color: var(--fill-color);\n",
              "    }\n",
              "    90% {\n",
              "      border-color: transparent;\n",
              "      border-bottom-color: var(--fill-color);\n",
              "    }\n",
              "  }\n",
              "</style>\n",
              "\n",
              "      <script>\n",
              "        async function quickchart(key) {\n",
              "          const quickchartButtonEl =\n",
              "            document.querySelector('#' + key + ' button');\n",
              "          quickchartButtonEl.disabled = true;  // To prevent multiple clicks.\n",
              "          quickchartButtonEl.classList.add('colab-df-spinner');\n",
              "          try {\n",
              "            const charts = await google.colab.kernel.invokeFunction(\n",
              "                'suggestCharts', [key], {});\n",
              "          } catch (error) {\n",
              "            console.error('Error during call to suggestCharts:', error);\n",
              "          }\n",
              "          quickchartButtonEl.classList.remove('colab-df-spinner');\n",
              "          quickchartButtonEl.classList.add('colab-df-quickchart-complete');\n",
              "        }\n",
              "        (() => {\n",
              "          let quickchartButtonEl =\n",
              "            document.querySelector('#df-e4a33539-311f-41d7-8421-cf09d9ac8793 button');\n",
              "          quickchartButtonEl.style.display =\n",
              "            google.colab.kernel.accessAllowed ? 'block' : 'none';\n",
              "        })();\n",
              "      </script>\n",
              "    </div>\n",
              "\n",
              "  <div id=\"id_44eb3b1b-8b16-4286-bab9-9cc0a5e3fed4\">\n",
              "    <style>\n",
              "      .colab-df-generate {\n",
              "        background-color: #E8F0FE;\n",
              "        border: none;\n",
              "        border-radius: 50%;\n",
              "        cursor: pointer;\n",
              "        display: none;\n",
              "        fill: #1967D2;\n",
              "        height: 32px;\n",
              "        padding: 0 0 0 0;\n",
              "        width: 32px;\n",
              "      }\n",
              "\n",
              "      .colab-df-generate:hover {\n",
              "        background-color: #E2EBFA;\n",
              "        box-shadow: 0px 1px 2px rgba(60, 64, 67, 0.3), 0px 1px 3px 1px rgba(60, 64, 67, 0.15);\n",
              "        fill: #174EA6;\n",
              "      }\n",
              "\n",
              "      [theme=dark] .colab-df-generate {\n",
              "        background-color: #3B4455;\n",
              "        fill: #D2E3FC;\n",
              "      }\n",
              "\n",
              "      [theme=dark] .colab-df-generate:hover {\n",
              "        background-color: #434B5C;\n",
              "        box-shadow: 0px 1px 3px 1px rgba(0, 0, 0, 0.15);\n",
              "        filter: drop-shadow(0px 1px 2px rgba(0, 0, 0, 0.3));\n",
              "        fill: #FFFFFF;\n",
              "      }\n",
              "    </style>\n",
              "    <button class=\"colab-df-generate\" onclick=\"generateWithVariable('df')\"\n",
              "            title=\"Generate code using this dataframe.\"\n",
              "            style=\"display:none;\">\n",
              "\n",
              "  <svg xmlns=\"http://www.w3.org/2000/svg\" height=\"24px\"viewBox=\"0 0 24 24\"\n",
              "       width=\"24px\">\n",
              "    <path d=\"M7,19H8.4L18.45,9,17,7.55,7,17.6ZM5,21V16.75L18.45,3.32a2,2,0,0,1,2.83,0l1.4,1.43a1.91,1.91,0,0,1,.58,1.4,1.91,1.91,0,0,1-.58,1.4L9.25,21ZM18.45,9,17,7.55Zm-12,3A5.31,5.31,0,0,0,4.9,8.1,5.31,5.31,0,0,0,1,6.5,5.31,5.31,0,0,0,4.9,4.9,5.31,5.31,0,0,0,6.5,1,5.31,5.31,0,0,0,8.1,4.9,5.31,5.31,0,0,0,12,6.5,5.46,5.46,0,0,0,6.5,12Z\"/>\n",
              "  </svg>\n",
              "    </button>\n",
              "    <script>\n",
              "      (() => {\n",
              "      const buttonEl =\n",
              "        document.querySelector('#id_44eb3b1b-8b16-4286-bab9-9cc0a5e3fed4 button.colab-df-generate');\n",
              "      buttonEl.style.display =\n",
              "        google.colab.kernel.accessAllowed ? 'block' : 'none';\n",
              "\n",
              "      buttonEl.onclick = () => {\n",
              "        google.colab.notebook.generateWithVariable('df');\n",
              "      }\n",
              "      })();\n",
              "    </script>\n",
              "  </div>\n",
              "\n",
              "    </div>\n",
              "  </div>\n"
            ],
            "application/vnd.google.colaboratory.intrinsic+json": {
              "type": "dataframe",
              "variable_name": "df",
              "summary": "{\n  \"name\": \"df\",\n  \"rows\": 10000,\n  \"fields\": [\n    {\n      \"column\": \"Latitude\",\n      \"properties\": {\n        \"dtype\": \"number\",\n        \"std\": 8.34127366928279,\n        \"min\": 8.000337407905619,\n        \"max\": 36.99181252529779,\n        \"num_unique_values\": 10000,\n        \"samples\": [\n          17.786834325676185,\n          30.489653604850982,\n          26.092979252457518\n        ],\n        \"semantic_type\": \"\",\n        \"description\": \"\"\n      }\n    },\n    {\n      \"column\": \"Longitude\",\n      \"properties\": {\n        \"dtype\": \"number\",\n        \"std\": 8.389541969530477,\n        \"min\": 68.00457459276365,\n        \"max\": 96.99781997816213,\n        \"num_unique_values\": 10000,\n        \"samples\": [\n          70.80987267376088,\n          90.8920093703958,\n          74.05627359310753\n        ],\n        \"semantic_type\": \"\",\n        \"description\": \"\"\n      }\n    },\n    {\n      \"column\": \"Rainfall (mm)\",\n      \"properties\": {\n        \"dtype\": \"number\",\n        \"std\": 86.03212719193958,\n        \"min\": 0.014437168293524,\n        \"max\": 299.9702931027695,\n        \"num_unique_values\": 10000,\n        \"samples\": [\n          290.68454752599644,\n          58.53174170184826,\n          296.8065045382557\n        ],\n        \"semantic_type\": \"\",\n        \"description\": \"\"\n      }\n    },\n    {\n      \"column\": \"Temperature (\\u00b0C)\",\n      \"properties\": {\n        \"dtype\": \"number\",\n        \"std\": 8.669837722627616,\n        \"min\": 15.00016610027214,\n        \"max\": 44.99368115437786,\n        \"num_unique_values\": 10000,\n        \"samples\": [\n          32.38042118553662,\n          38.36287825040995,\n          32.078594342884024\n        ],\n        \"semantic_type\": \"\",\n        \"description\": \"\"\n      }\n    },\n    {\n      \"column\": \"Humidity (%)\",\n      \"properties\": {\n        \"dtype\": \"number\",\n        \"std\": 23.142734303310082,\n        \"min\": 20.001338900634774,\n        \"max\": 99.9977717894386,\n        \"num_unique_values\": 10000,\n        \"samples\": [\n          69.94195604527498,\n          58.3676391884464,\n          21.92820054017288\n        ],\n        \"semantic_type\": \"\",\n        \"description\": \"\"\n      }\n    },\n    {\n      \"column\": \"River Discharge (m\\u00b3/s)\",\n      \"properties\": {\n        \"dtype\": \"number\",\n        \"std\": 1441.7064424477126,\n        \"min\": 0.0421610565215502,\n        \"max\": 4999.698480228592,\n        \"num_unique_values\": 10000,\n        \"samples\": [\n          2149.7886410432,\n          4072.4187845362726,\n          923.4167598248588\n        ],\n        \"semantic_type\": \"\",\n        \"description\": \"\"\n      }\n    },\n    {\n      \"column\": \"Water Level (m)\",\n      \"properties\": {\n        \"dtype\": \"number\",\n        \"std\": 2.876579210175199,\n        \"min\": 0.0027012235672785,\n        \"max\": 9.996898773860396,\n        \"num_unique_values\": 10000,\n        \"samples\": [\n          3.760597283095573,\n          7.698761428789026,\n          0.5605096492721118\n        ],\n        \"semantic_type\": \"\",\n        \"description\": \"\"\n      }\n    },\n    {\n      \"column\": \"Elevation (m)\",\n      \"properties\": {\n        \"dtype\": \"number\",\n        \"std\": 2530.2454208784675,\n        \"min\": 1.1503397240072708,\n        \"max\": 8846.894877202165,\n        \"num_unique_values\": 10000,\n        \"samples\": [\n          5732.622500471054,\n          7382.350077574361,\n          7186.187444940833\n        ],\n        \"semantic_type\": \"\",\n        \"description\": \"\"\n      }\n    },\n    {\n      \"column\": \"Land Cover\",\n      \"properties\": {\n        \"dtype\": \"category\",\n        \"num_unique_values\": 5,\n        \"samples\": [\n          \"Forest\",\n          \"Urban\",\n          \"Agricultural\"\n        ],\n        \"semantic_type\": \"\",\n        \"description\": \"\"\n      }\n    },\n    {\n      \"column\": \"Soil Type\",\n      \"properties\": {\n        \"dtype\": \"category\",\n        \"num_unique_values\": 5,\n        \"samples\": [\n          \"Peat\",\n          \"Silt\",\n          \"Loam\"\n        ],\n        \"semantic_type\": \"\",\n        \"description\": \"\"\n      }\n    },\n    {\n      \"column\": \"Population Density\",\n      \"properties\": {\n        \"dtype\": \"number\",\n        \"std\": 2882.5915203878803,\n        \"min\": 2.2890002655517883,\n        \"max\": 9999.169529703417,\n        \"num_unique_values\": 10000,\n        \"samples\": [\n          6560.217326872849,\n          4459.140279966192,\n          8658.02427285053\n        ],\n        \"semantic_type\": \"\",\n        \"description\": \"\"\n      }\n    },\n    {\n      \"column\": \"Infrastructure\",\n      \"properties\": {\n        \"dtype\": \"number\",\n        \"std\": 0,\n        \"min\": 0,\n        \"max\": 1,\n        \"num_unique_values\": 2,\n        \"samples\": [\n          0,\n          1\n        ],\n        \"semantic_type\": \"\",\n        \"description\": \"\"\n      }\n    },\n    {\n      \"column\": \"Historical Floods\",\n      \"properties\": {\n        \"dtype\": \"number\",\n        \"std\": 0,\n        \"min\": 0,\n        \"max\": 1,\n        \"num_unique_values\": 2,\n        \"samples\": [\n          1,\n          0\n        ],\n        \"semantic_type\": \"\",\n        \"description\": \"\"\n      }\n    },\n    {\n      \"column\": \"Flood Occurred\",\n      \"properties\": {\n        \"dtype\": \"number\",\n        \"std\": 0,\n        \"min\": 0,\n        \"max\": 1,\n        \"num_unique_values\": 2,\n        \"samples\": [\n          0,\n          1\n        ],\n        \"semantic_type\": \"\",\n        \"description\": \"\"\n      }\n    }\n  ]\n}"
            }
          },
          "metadata": {},
          "execution_count": 2
        }
      ]
    },
    {
      "cell_type": "markdown",
      "source": [
        "# 5- Análise Exploratória dos Dados"
      ],
      "metadata": {
        "id": "r8h5ohGX7XqO"
      }
    },
    {
      "cell_type": "markdown",
      "source": [
        "- O dataset contém informações sobre enchentes como nível da água, chuva acumulada, umidade, etc.\n",
        "- Algumas colunas podem precisar de encoding, como a \"Land Cover\" e \"Soil\".\n",
        "- Não há muitos valores ausentes, o que facilita o processamento.\n",
        "- A variável target indica se houve enchente.\n"
      ],
      "metadata": {
        "id": "_O1mUUMgrsMe"
      }
    },
    {
      "cell_type": "markdown",
      "source": [
        "# 6- Pré-processamento dos Dados"
      ],
      "metadata": {
        "id": "MN_0M-3q7y4R"
      }
    },
    {
      "cell_type": "code",
      "source": [
        "# Verificando se há duplicatas\n",
        "duplicatas = df.duplicated()\n",
        "duplicatas.sum()"
      ],
      "metadata": {
        "id": "W0cksuyLvmRh",
        "colab": {
          "base_uri": "https://localhost:8080/"
        },
        "outputId": "5703f71e-2897-403c-b8ca-29721092805a"
      },
      "execution_count": 3,
      "outputs": [
        {
          "output_type": "execute_result",
          "data": {
            "text/plain": [
              "np.int64(0)"
            ]
          },
          "metadata": {},
          "execution_count": 3
        }
      ]
    },
    {
      "cell_type": "code",
      "source": [
        "#Verificando se há valores nulos\n",
        "df.isnull().sum()"
      ],
      "metadata": {
        "colab": {
          "base_uri": "https://localhost:8080/",
          "height": 523
        },
        "collapsed": true,
        "id": "I3Mx7mmzNzkU",
        "outputId": "5874c6fe-2aee-4d1b-8b72-93ba32817793"
      },
      "execution_count": 4,
      "outputs": [
        {
          "output_type": "execute_result",
          "data": {
            "text/plain": [
              "Latitude                  0\n",
              "Longitude                 0\n",
              "Rainfall (mm)             0\n",
              "Temperature (°C)          0\n",
              "Humidity (%)              0\n",
              "River Discharge (m³/s)    0\n",
              "Water Level (m)           0\n",
              "Elevation (m)             0\n",
              "Land Cover                0\n",
              "Soil Type                 0\n",
              "Population Density        0\n",
              "Infrastructure            0\n",
              "Historical Floods         0\n",
              "Flood Occurred            0\n",
              "dtype: int64"
            ],
            "text/html": [
              "<div>\n",
              "<style scoped>\n",
              "    .dataframe tbody tr th:only-of-type {\n",
              "        vertical-align: middle;\n",
              "    }\n",
              "\n",
              "    .dataframe tbody tr th {\n",
              "        vertical-align: top;\n",
              "    }\n",
              "\n",
              "    .dataframe thead th {\n",
              "        text-align: right;\n",
              "    }\n",
              "</style>\n",
              "<table border=\"1\" class=\"dataframe\">\n",
              "  <thead>\n",
              "    <tr style=\"text-align: right;\">\n",
              "      <th></th>\n",
              "      <th>0</th>\n",
              "    </tr>\n",
              "  </thead>\n",
              "  <tbody>\n",
              "    <tr>\n",
              "      <th>Latitude</th>\n",
              "      <td>0</td>\n",
              "    </tr>\n",
              "    <tr>\n",
              "      <th>Longitude</th>\n",
              "      <td>0</td>\n",
              "    </tr>\n",
              "    <tr>\n",
              "      <th>Rainfall (mm)</th>\n",
              "      <td>0</td>\n",
              "    </tr>\n",
              "    <tr>\n",
              "      <th>Temperature (°C)</th>\n",
              "      <td>0</td>\n",
              "    </tr>\n",
              "    <tr>\n",
              "      <th>Humidity (%)</th>\n",
              "      <td>0</td>\n",
              "    </tr>\n",
              "    <tr>\n",
              "      <th>River Discharge (m³/s)</th>\n",
              "      <td>0</td>\n",
              "    </tr>\n",
              "    <tr>\n",
              "      <th>Water Level (m)</th>\n",
              "      <td>0</td>\n",
              "    </tr>\n",
              "    <tr>\n",
              "      <th>Elevation (m)</th>\n",
              "      <td>0</td>\n",
              "    </tr>\n",
              "    <tr>\n",
              "      <th>Land Cover</th>\n",
              "      <td>0</td>\n",
              "    </tr>\n",
              "    <tr>\n",
              "      <th>Soil Type</th>\n",
              "      <td>0</td>\n",
              "    </tr>\n",
              "    <tr>\n",
              "      <th>Population Density</th>\n",
              "      <td>0</td>\n",
              "    </tr>\n",
              "    <tr>\n",
              "      <th>Infrastructure</th>\n",
              "      <td>0</td>\n",
              "    </tr>\n",
              "    <tr>\n",
              "      <th>Historical Floods</th>\n",
              "      <td>0</td>\n",
              "    </tr>\n",
              "    <tr>\n",
              "      <th>Flood Occurred</th>\n",
              "      <td>0</td>\n",
              "    </tr>\n",
              "  </tbody>\n",
              "</table>\n",
              "</div><br><label><b>dtype:</b> int64</label>"
            ]
          },
          "metadata": {},
          "execution_count": 4
        }
      ]
    },
    {
      "cell_type": "code",
      "source": [
        "#Verificando se há informações fora do comum, como outliers e afins.\n",
        "\n",
        "print(\"Umidade fora do intervalo [0, 100]:\")\n",
        "print(df[(df['Humidity (%)'] < 0) | (df['Humidity (%)'] > 100)])\n",
        "\n",
        "print(\"Temperaturas fora da faixa [-30, 60]:\")\n",
        "print(df[(df['Temperature (°C)'] < -30) | (df['Temperature (°C)'] > 60)])\n",
        "\n",
        "print(\"Rainfall negativa:\")\n",
        "print(df[df['Rainfall (mm)'] < 0])\n",
        "\n",
        "print(\"River Discharge negativo:\")\n",
        "print(df[df['River Discharge (m³/s)'] < 0])\n",
        "\n",
        "print(\"Water Level muito extremo:\")\n",
        "print(df[(df['Water Level (m)'] < -5) | (df['Water Level (m)'] > 50)])\n",
        "\n",
        "print(\"Altitude muito fora do normal:\")\n",
        "print(df[(df['Elevation (m)'] < -500) | (df['Elevation (m)'] > 9000)])\n",
        "\n",
        "print(\"Densidade populacional negativa:\")\n",
        "print(df[df['Population Density'] < 0])"
      ],
      "metadata": {
        "colab": {
          "base_uri": "https://localhost:8080/"
        },
        "collapsed": true,
        "id": "zFyk_Y83N1SF",
        "outputId": "58cfee3a-71ab-4cd7-d8f8-9c1ba1e82f03"
      },
      "execution_count": 5,
      "outputs": [
        {
          "output_type": "stream",
          "name": "stdout",
          "text": [
            "Umidade fora do intervalo [0, 100]:\n",
            "Empty DataFrame\n",
            "Columns: [Latitude, Longitude, Rainfall (mm), Temperature (°C), Humidity (%), River Discharge (m³/s), Water Level (m), Elevation (m), Land Cover, Soil Type, Population Density, Infrastructure, Historical Floods, Flood Occurred]\n",
            "Index: []\n",
            "Temperaturas fora da faixa [-30, 60]:\n",
            "Empty DataFrame\n",
            "Columns: [Latitude, Longitude, Rainfall (mm), Temperature (°C), Humidity (%), River Discharge (m³/s), Water Level (m), Elevation (m), Land Cover, Soil Type, Population Density, Infrastructure, Historical Floods, Flood Occurred]\n",
            "Index: []\n",
            "Rainfall negativa:\n",
            "Empty DataFrame\n",
            "Columns: [Latitude, Longitude, Rainfall (mm), Temperature (°C), Humidity (%), River Discharge (m³/s), Water Level (m), Elevation (m), Land Cover, Soil Type, Population Density, Infrastructure, Historical Floods, Flood Occurred]\n",
            "Index: []\n",
            "River Discharge negativo:\n",
            "Empty DataFrame\n",
            "Columns: [Latitude, Longitude, Rainfall (mm), Temperature (°C), Humidity (%), River Discharge (m³/s), Water Level (m), Elevation (m), Land Cover, Soil Type, Population Density, Infrastructure, Historical Floods, Flood Occurred]\n",
            "Index: []\n",
            "Water Level muito extremo:\n",
            "Empty DataFrame\n",
            "Columns: [Latitude, Longitude, Rainfall (mm), Temperature (°C), Humidity (%), River Discharge (m³/s), Water Level (m), Elevation (m), Land Cover, Soil Type, Population Density, Infrastructure, Historical Floods, Flood Occurred]\n",
            "Index: []\n",
            "Altitude muito fora do normal:\n",
            "Empty DataFrame\n",
            "Columns: [Latitude, Longitude, Rainfall (mm), Temperature (°C), Humidity (%), River Discharge (m³/s), Water Level (m), Elevation (m), Land Cover, Soil Type, Population Density, Infrastructure, Historical Floods, Flood Occurred]\n",
            "Index: []\n",
            "Densidade populacional negativa:\n",
            "Empty DataFrame\n",
            "Columns: [Latitude, Longitude, Rainfall (mm), Temperature (°C), Humidity (%), River Discharge (m³/s), Water Level (m), Elevation (m), Land Cover, Soil Type, Population Density, Infrastructure, Historical Floods, Flood Occurred]\n",
            "Index: []\n"
          ]
        }
      ]
    },
    {
      "cell_type": "code",
      "source": [
        "#Aplicando One-Hot Encoding nas variáveis categóricas não-ordinais.\n",
        "df = pd.get_dummies(df, columns=['Land Cover', 'Soil Type'], drop_first=False, dtype=int)"
      ],
      "metadata": {
        "collapsed": true,
        "id": "HPtKzCfASBHD"
      },
      "execution_count": 6,
      "outputs": []
    },
    {
      "cell_type": "code",
      "source": [
        "# Tirando a variável target do DataFrame, normalizando os dados e separando os conjuntos de dados de teste e treinamento\n",
        "X, y = df.drop(columns=['Flood Occurred']), df['Flood Occurred']\n",
        "\n",
        "X_train, X_test, y_train, y_test = train_test_split(X, y, test_size=0.2, random_state=42)\n",
        "\n",
        "scaler = StandardScaler()\n",
        "X_train_scaled = scaler.fit_transform(X_train)\n",
        "X_test_scaled = scaler.transform(X_test)"
      ],
      "metadata": {
        "id": "pM5u1MzaibaG"
      },
      "execution_count": 7,
      "outputs": []
    },
    {
      "cell_type": "markdown",
      "source": [
        "# 7- Explicação do Pré-processamento\n"
      ],
      "metadata": {
        "id": "1vydGldK37G-"
      }
    },
    {
      "cell_type": "markdown",
      "source": [
        "Durante o pré-processamento, verificamos a presença de duplicatas, valores nulos e outliers, além de aplicar One-Hot Encoding nas variáveis categóricas. Em seguida, dividimos o conjunto de dados em 80% para treinamento e 20% para teste. Nenhuma anomalia relevante foi identificada durante essa etapa, indicando que os dados estavam em boas condições para o uso no modelo\n",
        "\n"
      ],
      "metadata": {
        "id": "zfpEg5Hi4DSS"
      }
    },
    {
      "cell_type": "markdown",
      "source": [
        "# 8- Construção do Modelo de Rede Neural\n"
      ],
      "metadata": {
        "id": "beLsGusc5s3U"
      }
    },
    {
      "cell_type": "code",
      "source": [
        "#Arquitetura do modelo\n",
        "model = tf.keras.Sequential(\n",
        "  [\n",
        "    tf.keras.layers.Dense(10, activation='relu'),\n",
        "    tf.keras.layers.Dropout(0.2),\n",
        "    tf.keras.layers.Dense(5, activation='relu'),\n",
        "    tf.keras.layers.Dense(1, activation='sigmoid')\n",
        "  ]\n",
        ")\n",
        "\n",
        "model.compile(\n",
        "  optimizer = 'adam',\n",
        "  loss= \"binary_crossentropy\",\n",
        "  metrics=['accuracy', 'precision', 'recall', 'auc']\n",
        ")\n"
      ],
      "metadata": {
        "id": "hoJYsMbH511u",
        "collapsed": true
      },
      "execution_count": 8,
      "outputs": []
    },
    {
      "cell_type": "markdown",
      "source": [
        "# 9- Explicação da Arquitetura do Modelo"
      ],
      "metadata": {
        "id": "3ovbX1bKGSI1"
      }
    },
    {
      "cell_type": "markdown",
      "source": [
        "A arquitetura do modelo foi escolhida baseada em testes, utilizando algumas técnicas como o dropout para desligamento de neurônios visando aumentar o aprendizado e acurácia do modelo. Utilizamos a função de ativação Sigmoid na última camada por se tratar de uma classificação binária (0 ou 1). Pelo mesmo motivo, usamos a função de binary_crossentropy para o loss. As métricas utilizadas são as sugeridas no documento."
      ],
      "metadata": {
        "id": "9PeikgOxFXye"
      }
    },
    {
      "cell_type": "markdown",
      "source": [
        "# 10- Treinamento do Modelo\n"
      ],
      "metadata": {
        "id": "YneGMjioGg-c"
      }
    },
    {
      "cell_type": "code",
      "source": [
        "training = model.fit(X_train_scaled, y_train, epochs= 25, validation_data =(X_test_scaled, y_test))\n",
        "\n",
        "metrics_names = model.metrics_names\n",
        "results = model.evaluate(X_test_scaled, y_test, verbose=0)\n",
        "\n",
        "for name, value in zip(metrics_names, results):\n",
        "    print(f\"{name}: {value:.4f}\")\n"
      ],
      "metadata": {
        "colab": {
          "base_uri": "https://localhost:8080/"
        },
        "id": "iZ-Gh-oYFWvU",
        "outputId": "b1c199c0-adc5-46ab-b390-4c7a0b012104"
      },
      "execution_count": 9,
      "outputs": [
        {
          "output_type": "stream",
          "name": "stdout",
          "text": [
            "Epoch 1/25\n",
            "\u001b[1m250/250\u001b[0m \u001b[32m━━━━━━━━━━━━━━━━━━━━\u001b[0m\u001b[37m\u001b[0m \u001b[1m11s\u001b[0m 18ms/step - accuracy: 0.5061 - auc: 0.4918 - loss: 0.9646 - precision: 0.5068 - recall: 0.9087 - val_accuracy: 0.4935 - val_auc: 0.4966 - val_loss: 0.7104 - val_precision: 0.5111 - val_recall: 0.4681\n",
            "Epoch 2/25\n",
            "\u001b[1m250/250\u001b[0m \u001b[32m━━━━━━━━━━━━━━━━━━━━\u001b[0m\u001b[37m\u001b[0m \u001b[1m2s\u001b[0m 7ms/step - accuracy: 0.4904 - auc: 0.4951 - loss: 0.7126 - precision: 0.4899 - recall: 0.4885 - val_accuracy: 0.5020 - val_auc: 0.5051 - val_loss: 0.6996 - val_precision: 0.5235 - val_recall: 0.4091\n",
            "Epoch 3/25\n",
            "\u001b[1m250/250\u001b[0m \u001b[32m━━━━━━━━━━━━━━━━━━━━\u001b[0m\u001b[37m\u001b[0m \u001b[1m2s\u001b[0m 5ms/step - accuracy: 0.5037 - auc: 0.5073 - loss: 0.7005 - precision: 0.5046 - recall: 0.4773 - val_accuracy: 0.5075 - val_auc: 0.5108 - val_loss: 0.6975 - val_precision: 0.5365 - val_recall: 0.3482\n",
            "Epoch 4/25\n",
            "\u001b[1m250/250\u001b[0m \u001b[32m━━━━━━━━━━━━━━━━━━━━\u001b[0m\u001b[37m\u001b[0m \u001b[1m1s\u001b[0m 4ms/step - accuracy: 0.4965 - auc: 0.5011 - loss: 0.7000 - precision: 0.4950 - recall: 0.4408 - val_accuracy: 0.5110 - val_auc: 0.5151 - val_loss: 0.6963 - val_precision: 0.5470 - val_recall: 0.3153\n",
            "Epoch 5/25\n",
            "\u001b[1m250/250\u001b[0m \u001b[32m━━━━━━━━━━━━━━━━━━━━\u001b[0m\u001b[37m\u001b[0m \u001b[1m1s\u001b[0m 4ms/step - accuracy: 0.4994 - auc: 0.5036 - loss: 0.6965 - precision: 0.5051 - recall: 0.4312 - val_accuracy: 0.5125 - val_auc: 0.5159 - val_loss: 0.6962 - val_precision: 0.5537 - val_recall: 0.2940\n",
            "Epoch 6/25\n",
            "\u001b[1m250/250\u001b[0m \u001b[32m━━━━━━━━━━━━━━━━━━━━\u001b[0m\u001b[37m\u001b[0m \u001b[1m1s\u001b[0m 4ms/step - accuracy: 0.5195 - auc: 0.5268 - loss: 0.6937 - precision: 0.5305 - recall: 0.3799 - val_accuracy: 0.5230 - val_auc: 0.5180 - val_loss: 0.6938 - val_precision: 0.5478 - val_recall: 0.4429\n",
            "Epoch 7/25\n",
            "\u001b[1m250/250\u001b[0m \u001b[32m━━━━━━━━━━━━━━━━━━━━\u001b[0m\u001b[37m\u001b[0m \u001b[1m2s\u001b[0m 6ms/step - accuracy: 0.5160 - auc: 0.5170 - loss: 0.6939 - precision: 0.5281 - recall: 0.5118 - val_accuracy: 0.4975 - val_auc: 0.5134 - val_loss: 0.6962 - val_precision: 0.5274 - val_recall: 0.2698\n",
            "Epoch 8/25\n",
            "\u001b[1m250/250\u001b[0m \u001b[32m━━━━━━━━━━━━━━━━━━━━\u001b[0m\u001b[37m\u001b[0m \u001b[1m2s\u001b[0m 5ms/step - accuracy: 0.5037 - auc: 0.5118 - loss: 0.6950 - precision: 0.5147 - recall: 0.4271 - val_accuracy: 0.5070 - val_auc: 0.5217 - val_loss: 0.6940 - val_precision: 0.5342 - val_recall: 0.3627\n",
            "Epoch 9/25\n",
            "\u001b[1m250/250\u001b[0m \u001b[32m━━━━━━━━━━━━━━━━━━━━\u001b[0m\u001b[37m\u001b[0m \u001b[1m1s\u001b[0m 4ms/step - accuracy: 0.5184 - auc: 0.5326 - loss: 0.6915 - precision: 0.5254 - recall: 0.4666 - val_accuracy: 0.5050 - val_auc: 0.5182 - val_loss: 0.6939 - val_precision: 0.5292 - val_recall: 0.3859\n",
            "Epoch 10/25\n",
            "\u001b[1m250/250\u001b[0m \u001b[32m━━━━━━━━━━━━━━━━━━━━\u001b[0m\u001b[37m\u001b[0m \u001b[1m1s\u001b[0m 4ms/step - accuracy: 0.5220 - auc: 0.5328 - loss: 0.6917 - precision: 0.5278 - recall: 0.5096 - val_accuracy: 0.5055 - val_auc: 0.5210 - val_loss: 0.6938 - val_precision: 0.5269 - val_recall: 0.4255\n",
            "Epoch 11/25\n",
            "\u001b[1m250/250\u001b[0m \u001b[32m━━━━━━━━━━━━━━━━━━━━\u001b[0m\u001b[37m\u001b[0m \u001b[1m1s\u001b[0m 5ms/step - accuracy: 0.5148 - auc: 0.5326 - loss: 0.6906 - precision: 0.5147 - recall: 0.4707 - val_accuracy: 0.5050 - val_auc: 0.5191 - val_loss: 0.6929 - val_precision: 0.5228 - val_recall: 0.4884\n",
            "Epoch 12/25\n",
            "\u001b[1m250/250\u001b[0m \u001b[32m━━━━━━━━━━━━━━━━━━━━\u001b[0m\u001b[37m\u001b[0m \u001b[1m1s\u001b[0m 4ms/step - accuracy: 0.5308 - auc: 0.5530 - loss: 0.6890 - precision: 0.5302 - recall: 0.5039 - val_accuracy: 0.5070 - val_auc: 0.5160 - val_loss: 0.6933 - val_precision: 0.5259 - val_recall: 0.4720\n",
            "Epoch 13/25\n",
            "\u001b[1m250/250\u001b[0m \u001b[32m━━━━━━━━━━━━━━━━━━━━\u001b[0m\u001b[37m\u001b[0m \u001b[1m1s\u001b[0m 4ms/step - accuracy: 0.5272 - auc: 0.5408 - loss: 0.6900 - precision: 0.5292 - recall: 0.5759 - val_accuracy: 0.5090 - val_auc: 0.5201 - val_loss: 0.6935 - val_precision: 0.5300 - val_recall: 0.4439\n",
            "Epoch 14/25\n",
            "\u001b[1m250/250\u001b[0m \u001b[32m━━━━━━━━━━━━━━━━━━━━\u001b[0m\u001b[37m\u001b[0m \u001b[1m1s\u001b[0m 5ms/step - accuracy: 0.5268 - auc: 0.5408 - loss: 0.6902 - precision: 0.5234 - recall: 0.4961 - val_accuracy: 0.5095 - val_auc: 0.5217 - val_loss: 0.6930 - val_precision: 0.5253 - val_recall: 0.5329\n",
            "Epoch 15/25\n",
            "\u001b[1m250/250\u001b[0m \u001b[32m━━━━━━━━━━━━━━━━━━━━\u001b[0m\u001b[37m\u001b[0m \u001b[1m1s\u001b[0m 4ms/step - accuracy: 0.5296 - auc: 0.5490 - loss: 0.6892 - precision: 0.5277 - recall: 0.5887 - val_accuracy: 0.5115 - val_auc: 0.5245 - val_loss: 0.6929 - val_precision: 0.5280 - val_recall: 0.5193\n",
            "Epoch 16/25\n",
            "\u001b[1m250/250\u001b[0m \u001b[32m━━━━━━━━━━━━━━━━━━━━\u001b[0m\u001b[37m\u001b[0m \u001b[1m2s\u001b[0m 6ms/step - accuracy: 0.5349 - auc: 0.5551 - loss: 0.6884 - precision: 0.5345 - recall: 0.6038 - val_accuracy: 0.5140 - val_auc: 0.5235 - val_loss: 0.6939 - val_precision: 0.5373 - val_recall: 0.4313\n",
            "Epoch 17/25\n",
            "\u001b[1m250/250\u001b[0m \u001b[32m━━━━━━━━━━━━━━━━━━━━\u001b[0m\u001b[37m\u001b[0m \u001b[1m2s\u001b[0m 4ms/step - accuracy: 0.5278 - auc: 0.5455 - loss: 0.6888 - precision: 0.5353 - recall: 0.6016 - val_accuracy: 0.5005 - val_auc: 0.5187 - val_loss: 0.6956 - val_precision: 0.5277 - val_recall: 0.3221\n",
            "Epoch 18/25\n",
            "\u001b[1m250/250\u001b[0m \u001b[32m━━━━━━━━━━━━━━━━━━━━\u001b[0m\u001b[37m\u001b[0m \u001b[1m1s\u001b[0m 4ms/step - accuracy: 0.5318 - auc: 0.5474 - loss: 0.6898 - precision: 0.5407 - recall: 0.5570 - val_accuracy: 0.5095 - val_auc: 0.5244 - val_loss: 0.6937 - val_precision: 0.5314 - val_recall: 0.4342\n",
            "Epoch 19/25\n",
            "\u001b[1m250/250\u001b[0m \u001b[32m━━━━━━━━━━━━━━━━━━━━\u001b[0m\u001b[37m\u001b[0m \u001b[1m1s\u001b[0m 5ms/step - accuracy: 0.5476 - auc: 0.5611 - loss: 0.6875 - precision: 0.5435 - recall: 0.5617 - val_accuracy: 0.5160 - val_auc: 0.5303 - val_loss: 0.6921 - val_precision: 0.5305 - val_recall: 0.5551\n",
            "Epoch 20/25\n",
            "\u001b[1m250/250\u001b[0m \u001b[32m━━━━━━━━━━━━━━━━━━━━\u001b[0m\u001b[37m\u001b[0m \u001b[1m1s\u001b[0m 4ms/step - accuracy: 0.5389 - auc: 0.5602 - loss: 0.6871 - precision: 0.5357 - recall: 0.6192 - val_accuracy: 0.5065 - val_auc: 0.5259 - val_loss: 0.6940 - val_precision: 0.5285 - val_recall: 0.4217\n",
            "Epoch 21/25\n",
            "\u001b[1m250/250\u001b[0m \u001b[32m━━━━━━━━━━━━━━━━━━━━\u001b[0m\u001b[37m\u001b[0m \u001b[1m1s\u001b[0m 4ms/step - accuracy: 0.5372 - auc: 0.5498 - loss: 0.6887 - precision: 0.5384 - recall: 0.5983 - val_accuracy: 0.5215 - val_auc: 0.5286 - val_loss: 0.6936 - val_precision: 0.5448 - val_recall: 0.4526\n",
            "Epoch 22/25\n",
            "\u001b[1m250/250\u001b[0m \u001b[32m━━━━━━━━━━━━━━━━━━━━\u001b[0m\u001b[37m\u001b[0m \u001b[1m1s\u001b[0m 4ms/step - accuracy: 0.5426 - auc: 0.5610 - loss: 0.6874 - precision: 0.5417 - recall: 0.5784 - val_accuracy: 0.5195 - val_auc: 0.5314 - val_loss: 0.6924 - val_precision: 0.5351 - val_recall: 0.5377\n",
            "Epoch 23/25\n",
            "\u001b[1m250/250\u001b[0m \u001b[32m━━━━━━━━━━━━━━━━━━━━\u001b[0m\u001b[37m\u001b[0m \u001b[1m1s\u001b[0m 4ms/step - accuracy: 0.5436 - auc: 0.5597 - loss: 0.6869 - precision: 0.5375 - recall: 0.5773 - val_accuracy: 0.5245 - val_auc: 0.5346 - val_loss: 0.6916 - val_precision: 0.5331 - val_recall: 0.6460\n",
            "Epoch 24/25\n",
            "\u001b[1m250/250\u001b[0m \u001b[32m━━━━━━━━━━━━━━━━━━━━\u001b[0m\u001b[37m\u001b[0m \u001b[1m1s\u001b[0m 4ms/step - accuracy: 0.5492 - auc: 0.5678 - loss: 0.6864 - precision: 0.5458 - recall: 0.7057 - val_accuracy: 0.5260 - val_auc: 0.5345 - val_loss: 0.6920 - val_precision: 0.5422 - val_recall: 0.5338\n",
            "Epoch 25/25\n",
            "\u001b[1m250/250\u001b[0m \u001b[32m━━━━━━━━━━━━━━━━━━━━\u001b[0m\u001b[37m\u001b[0m \u001b[1m2s\u001b[0m 6ms/step - accuracy: 0.5287 - auc: 0.5539 - loss: 0.6882 - precision: 0.5263 - recall: 0.6611 - val_accuracy: 0.5230 - val_auc: 0.5296 - val_loss: 0.6942 - val_precision: 0.5528 - val_recall: 0.4052\n",
            "loss: 0.6942\n",
            "compile_metrics: 0.5230\n"
          ]
        }
      ]
    },
    {
      "cell_type": "markdown",
      "source": [
        "# 11- Análise do Treinamento"
      ],
      "metadata": {
        "id": "63G_AvTVHReQ"
      }
    },
    {
      "cell_type": "markdown",
      "source": [
        "Analisando os resultados obtidos pelo modelo, percebemos que o modelo não tem um bom aprendizado levando em consideração a acurácia... O loss do modelo também está muito alto, o que significa que o modelo não está tendo um aprendizado eficiente."
      ],
      "metadata": {
        "id": "NIzcS539H8lt"
      }
    },
    {
      "cell_type": "markdown",
      "source": [
        "# 12 - Avaliação e Validação"
      ],
      "metadata": {
        "id": "4ylwmoBWTnM6"
      }
    },
    {
      "cell_type": "code",
      "source": [
        "plt.plot(training.history['accuracy'], label='Acurácia')\n",
        "plt.plot(training.history['precision'], label='Precisão')\n",
        "plt.plot(training.history['recall'], label='Recall')\n",
        "plt.plot(training.history['auc'], label='AUC')\n",
        "plt.plot(training.history['val_accuracy'], label='Validação')\n",
        "plt.title('Acurácia por Época')\n",
        "plt.xlabel('Época')\n",
        "plt.ylabel('Acurácia')\n",
        "plt.legend()\n",
        "plt.grid(True)\n",
        "plt.show()"
      ],
      "metadata": {
        "colab": {
          "base_uri": "https://localhost:8080/",
          "height": 476
        },
        "id": "aqdASpHyTltH",
        "outputId": "42a196fd-0cba-4178-cab9-bc5eaf77e729"
      },
      "execution_count": 10,
      "outputs": [
        {
          "output_type": "display_data",
          "data": {
            "text/plain": [
              "<Figure size 640x480 with 1 Axes>"
            ],
            "image/png": "[encoded data removed]"
          },
          "metadata": {}
        }
      ]
    },
    {
      "cell_type": "markdown",
      "source": [
        "# 13 - Discussão dos Resultados"
      ],
      "metadata": {
        "id": "C9eL8_WiWy84"
      }
    },
    {
      "cell_type": "markdown",
      "source": [
        "Os resultados não foram satisfatórios, o modelo não aprende bem mesmo com algumas alterações feitas e testadas. Todas as métricas estão ruins ou medianas. Acreditamos que o problema esteja com os dados (features), que não são suficientes para determinar se houve ou não enchentes (variável target). Obtivemos overfitting e muitos problemas de generalização.\n",
        "\n",
        "Uma melhoria futura seria fazer feature engineering, para melhorarmos a relação das features com o target, tornando assim, dados mais eficientes para o aprendizado da rede neural. Algo como combinarmos duas features existentes para criar uma nova, por exemplo. Outra opção seria utilizarmos outro modelo pra aprendizado, como sugestão teria o Random Forest."
      ],
      "metadata": {
        "id": "EebZVCFJW4pC"
      }
    },
    {
      "cell_type": "markdown",
      "source": [
        " # 14 - Conclusões e Próximos Passos"
      ],
      "metadata": {
        "id": "Losz6MPaX6F8"
      }
    },
    {
      "cell_type": "markdown",
      "source": [
        "Foi desenvolvido uma Rede Neural MLP (Feed Forward) que tem como objetivo prever enchentes. Durante a arquitetura do modelo fizemos diversos testes para acharmos os melhores hiper-parâmetros, funções, quantidades de neurônios e técnicas de dropout. Ainda assim, não obtivemos um resultado satisfatório, embora tenhamos tentado diversas arquiteturas. Fizemos Análise de Correlação, PCA, Matriz de Confusão, Predição Binária e afins, e nessa análise, identificamos que de fato, os dados não são de boa qualidade para o modelo.\n",
        "\n",
        "Os próximos passos seriam melhoramos a qualidade dos dados através de estratégias como o feature engineering, usarmos transfer learning com modelos pré-treinados, e gerarmos mais dados sintéticos.\n",
        "\n",
        "Abaixo, segue algumas explorações que foram desenvolvidas:"
      ],
      "metadata": {
        "id": "7YId7ojyYM7_"
      }
    },
    {
      "cell_type": "code",
      "source": [
        "#Análise de correlação\n",
        "correlation = df.corr(numeric_only=True)[\"Flood Occurred\"].sort_values(ascending=False)\n",
        "sns.barplot(x=correlation.values, y=correlation.index)\n",
        "plt.title(\"Correlação com Flood Occurred\")\n",
        "\n",
        "# Predição binária\n",
        "y_pred_prob = model.predict(X_test_scaled)\n",
        "y_pred = (y_pred_prob > 0.5).astype(int)\n",
        "\n",
        "# Matriz de confusão\n",
        "cm = confusion_matrix(y_test, y_pred)\n",
        "disp = ConfusionMatrixDisplay(confusion_matrix=cm)\n",
        "disp.plot(cmap='Blues')\n",
        "plt.title(\"Matriz de Confusão\")\n",
        "plt.show()\n",
        "\n",
        "# Relatório de Classificação\n",
        "print(\"Relatório de Classificação:\")\n",
        "print(classification_report(y_test, y_pred))\n"
      ],
      "metadata": {
        "id": "qYAA02XeYAew"
      },
      "execution_count": null,
      "outputs": []
    }
  ]
}